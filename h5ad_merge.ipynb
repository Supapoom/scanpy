{
 "cells": [
  {
   "cell_type": "code",
   "execution_count": 1,
   "metadata": {},
   "outputs": [],
   "source": [
    "import rapids_singlecell as rsc\n",
    "import scanpy as sc \n",
    "import pandas as pd\n",
    "import seaborn as sns\n",
    "import numpy as np\n",
    "from scipy.stats import median_abs_deviation\n",
    "import os\n",
    "import warnings\n",
    "warnings.filterwarnings('ignore', 'Expected')\n",
    "warnings.simplefilter('ignore')\n",
    "\n",
    "import anndata \n",
    "from anndata import AnnData\n",
    "import matplotlib\n",
    "\n",
    "import time\n",
    "import cuda\n",
    "import cudf\n",
    "import cupy\n",
    "\n",
    "from cuml.decomposition import PCA\n",
    "from cuml.manifold import TSNE\n",
    "from cuml.cluster import KMeans\n",
    "from cuml.preprocessing import StandardScaler"
   ]
  },
  {
   "cell_type": "code",
   "execution_count": 2,
   "metadata": {},
   "outputs": [],
   "source": [
    "import rmm\n",
    "from rmm.allocators.cupy import rmm_cupy_allocator\n",
    "\n",
    "rmm.reinitialize(\n",
    "    managed_memory=True,\n",
    ")\n",
    "\n",
    "cupy.cuda.set_allocator(rmm_cupy_allocator)"
   ]
  },
  {
   "cell_type": "code",
   "execution_count": 3,
   "metadata": {},
   "outputs": [
    {
     "data": {
      "text/plain": [
       "['GSE178265_results.h5ad',\n",
       " 'GSE178265_violin_filtered.png',\n",
       " 'GSE178265_tsne.png',\n",
       " 'GSE178265_umap.png',\n",
       " 'GS178265_hvg.png',\n",
       " 'GSE178265_embedding.png']"
      ]
     },
     "execution_count": 3,
     "metadata": {},
     "output_type": "execute_result"
    }
   ],
   "source": [
    "directory = '/home/supakorn/rscript/results/GSE178265'\n",
    "file = os.listdir(directory)\n",
    "file"
   ]
  },
  {
   "cell_type": "code",
   "execution_count": 3,
   "metadata": {},
   "outputs": [],
   "source": [
    "h5ad1 = '/home/supakorn/rscript/results/GSE178265/GSE178265_results.h5ad'\n",
    "h5ad2 = '/home/supakorn/rscript/results/GSE157783/GSE157783_results.h5ad'\n",
    "h5ad3 = '/home/supakorn/rscript/results/GSE178146/GSE178146_results.h5ad'\n",
    "h5ad4 = '/home/supakorn/rscript/results/GSE184950/GSE184950_results.h5ad'"
   ]
  },
  {
   "cell_type": "code",
   "execution_count": 4,
   "metadata": {},
   "outputs": [],
   "source": [
    "adata1 = sc.read_h5ad(h5ad1)\n",
    "adata2 = sc.read_h5ad(h5ad2)\n",
    "adata3 = sc.read_h5ad(h5ad3)\n",
    "adata4 = sc.read_h5ad(h5ad4)"
   ]
  },
  {
   "cell_type": "code",
   "execution_count": 5,
   "metadata": {},
   "outputs": [
    {
     "data": {
      "text/plain": [
       "AnnData object with n_obs × n_vars = 433186 × 3000\n",
       "    obs: 'patient', 'status', 'age', 'sex', 'n_genes_by_counts', 'total_counts', 'log1p_n_genes_by_counts', 'log1p_total_counts', 'total_counts_mt', 'pct_counts_mt', 'log1p_total_counts_mt', 'leiden', 'louvain', 'kmeans', 'umap_density_patient'\n",
       "    var: 'gene_name', 'mt', 'n_cells_by_counts', 'total_counts', 'mean_counts', 'pct_dropout_by_counts', 'log1p_total_counts', 'log1p_mean_counts', 'highly_variable', 'highly_variable_rank', 'means', 'variances', 'variances_norm'\n",
       "    uns: 'hvg', 'kmeans_colors', 'leiden', 'leiden_colors', 'log1p', 'louvain', 'louvain_colors', 'neighbors', 'pca', 'rank_genes_groups', 'tsne', 'umap', 'umap_density_patient_params'\n",
       "    obsm: 'X_pca', 'X_pca_harmony', 'X_tsne', 'X_umap'\n",
       "    varm: 'PCs'\n",
       "    layers: 'counts'\n",
       "    obsp: 'connectivities', 'distances'"
      ]
     },
     "execution_count": 5,
     "metadata": {},
     "output_type": "execute_result"
    }
   ],
   "source": [
    "adata1"
   ]
  },
  {
   "cell_type": "code",
   "execution_count": 6,
   "metadata": {},
   "outputs": [
    {
     "data": {
      "text/plain": [
       "AnnData object with n_obs × n_vars = 41433 × 2000\n",
       "    obs: 'patient', 'cell_ontology', 'condition', 'n_genes_by_counts', 'total_counts', 'log1p_n_genes_by_counts', 'log1p_total_counts', 'total_counts_mt', 'pct_counts_mt', 'log1p_total_counts_mt', 'leiden', 'louvain', 'kmeans', 'umap_density_patient'\n",
       "    var: 'gene', 'mt', 'n_cells_by_counts', 'total_counts', 'mean_counts', 'pct_dropout_by_counts', 'log1p_total_counts', 'log1p_mean_counts', 'highly_variable', 'highly_variable_rank', 'means', 'variances', 'variances_norm'\n",
       "    uns: 'cell_ontology_colors', 'hvg', 'kmeans_colors', 'leiden', 'leiden_colors', 'log1p', 'louvain', 'louvain_colors', 'neighbors', 'pca', 'rank_genes_groups', 'tsne', 'umap', 'umap_density_patient_params'\n",
       "    obsm: 'X_pca', 'X_pca_harmony', 'X_tsne', 'X_umap'\n",
       "    varm: 'PCs'\n",
       "    layers: 'counts'\n",
       "    obsp: 'connectivities', 'distances'"
      ]
     },
     "execution_count": 6,
     "metadata": {},
     "output_type": "execute_result"
    }
   ],
   "source": [
    "adata2"
   ]
  },
  {
   "cell_type": "code",
   "execution_count": 7,
   "metadata": {},
   "outputs": [
    {
     "data": {
      "text/plain": [
       "AnnData object with n_obs × n_vars = 353569 × 5000\n",
       "    obs: 'Patient', 'Conditions', 'n_genes_by_counts', 'total_counts', 'log1p_n_genes_by_counts', 'log1p_total_counts', 'total_counts_mt', 'pct_counts_mt', 'log1p_total_counts_mt', 'leiden', 'louvain', 'kmeans', 'umap_density_Patient', 'cell_type'\n",
       "    var: 'gene_ids', 'feature_types', 'mt', 'n_cells_by_counts', 'total_counts', 'mean_counts', 'pct_dropout_by_counts', 'log1p_total_counts', 'log1p_mean_counts', 'highly_variable', 'highly_variable_rank', 'means', 'variances', 'variances_norm'\n",
       "    uns: 'cell_type_colors', 'dendrogram_leiden', 'hvg', 'kmeans_colors', 'leiden', 'leiden_colors', 'log1p', 'louvain', 'louvain_colors', 'neighbors', 'pca', 'tsne', 'umap', 'umap_density_Patient_params'\n",
       "    obsm: 'X_pca', 'X_pca_harmony', 'X_tsne', 'X_umap', 'ora_estimate', 'ora_pvals'\n",
       "    varm: 'PCs'\n",
       "    layers: 'counts'\n",
       "    obsp: 'connectivities', 'distances'"
      ]
     },
     "execution_count": 7,
     "metadata": {},
     "output_type": "execute_result"
    }
   ],
   "source": [
    "adata3"
   ]
  },
  {
   "cell_type": "code",
   "execution_count": 8,
   "metadata": {},
   "outputs": [
    {
     "data": {
      "text/plain": [
       "AnnData object with n_obs × n_vars = 267550 × 5000\n",
       "    obs: 'Patient', 'Type', 'Sex', 'n_genes_by_counts', 'total_counts', 'log1p_n_genes_by_counts', 'log1p_total_counts', 'total_counts_mt', 'pct_counts_mt', 'log1p_total_counts_mt', 'leiden', 'louvain', 'kmeans', 'umap_density_Patient'\n",
       "    var: 'gene_ids', 'feature_types', 'mt', 'n_cells_by_counts', 'total_counts', 'mean_counts', 'pct_dropout_by_counts', 'log1p_total_counts', 'log1p_mean_counts', 'highly_variable', 'highly_variable_rank', 'means', 'variances', 'variances_norm'\n",
       "    uns: 'hvg', 'kmeans_colors', 'leiden', 'leiden_colors', 'log1p', 'louvain', 'louvain_colors', 'neighbors', 'pca', 'rank_genes_groups', 'tsne', 'umap', 'umap_density_Patient_params'\n",
       "    obsm: 'X_pca', 'X_pca_harmony', 'X_tsne', 'X_umap'\n",
       "    varm: 'PCs'\n",
       "    layers: 'counts'\n",
       "    obsp: 'connectivities', 'distances'"
      ]
     },
     "execution_count": 8,
     "metadata": {},
     "output_type": "execute_result"
    }
   ],
   "source": [
    "adata4"
   ]
  },
  {
   "cell_type": "code",
   "execution_count": 10,
   "metadata": {},
   "outputs": [
    {
     "data": {
      "text/plain": [
       "Barcode\n",
       "AATGCCACACAAGCAG-1          pPDCN4340DAPIA030419\n",
       "AGACTCAGTCACAATC-1          pPDCN4340DAPIA030419\n",
       "ATACTTCCAGCGTTGC-1          pPDCN4340DAPIA030419\n",
       "ATATCCTGTGTGTTTG-1          pPDCN4340DAPIA030419\n",
       "ATCCACCGTGGGTTGA-1          pPDCN4340DAPIA030419\n",
       "                                 ...            \n",
       "CATACTTGTCTGATCA-1    pPDsHSrSNxi3298d200429PosB\n",
       "TTTGTTGTCCTTGAAG-1    pPDsHSrSNxi3298d200429PosB\n",
       "ACACTGACACTAGAGG-1    pPDsHSrSNxi3298d200429PosB\n",
       "CAACAACAGCTCGAAG-1    pPDsHSrSNxi3298d200429PosB\n",
       "TGAGCATCAGACAAGC-1    pPDsHSrSNxi3298d200429PosB\n",
       "Name: patient, Length: 433186, dtype: category\n",
       "Categories (97, object): ['pPDCN3839DAPIA030419', 'pPDCN3839DAPIB030419', 'pPDCN3898DAPIA030419', 'pPDCN3898DAPIB030419', ..., 'pPDsHSrSNxi5610d200429Pos', 'pPDsHSrSNxi6173d200429DAPIA', 'pPDsHSrSNxi6173d200429PosA', 'pPDsHSrSNxi6173d200429PosB']"
      ]
     },
     "execution_count": 10,
     "metadata": {},
     "output_type": "execute_result"
    }
   ],
   "source": [
    "adata.obs['patient']"
   ]
  }
 ],
 "metadata": {
  "kernelspec": {
   "display_name": "rapids-24.02",
   "language": "python",
   "name": "python3"
  },
  "language_info": {
   "codemirror_mode": {
    "name": "ipython",
    "version": 3
   },
   "file_extension": ".py",
   "mimetype": "text/x-python",
   "name": "python",
   "nbconvert_exporter": "python",
   "pygments_lexer": "ipython3",
   "version": "3.10.13"
  }
 },
 "nbformat": 4,
 "nbformat_minor": 2
}
